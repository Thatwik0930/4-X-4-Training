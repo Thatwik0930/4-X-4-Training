{
 "cells": [
  {
   "cell_type": "markdown",
   "metadata": {},
   "source": [
    "Day-1 Assignment"
   ]
  },
  {
   "cell_type": "markdown",
   "metadata": {},
   "source": [
    "Thatwik Reddy - 21WU0103005"
   ]
  },
  {
   "cell_type": "markdown",
   "metadata": {},
   "source": [
    "### 1. In the below elements which of them are values or an expression? eg:- values can be integer or string and expressions will be mathematical operators.\n",
    "- * \n",
    "- 'hello'\n",
    "- -87.8\n",
    "- - \n",
    "- / \n",
    "- +\n",
    "- 6 "
   ]
  },
  {
   "cell_type": "markdown",
   "metadata": {},
   "source": [
    "### Answer : \n",
    "operators:\n",
    "#### *,-,/,+\n",
    "values:\n",
    "#### 'hello', -87.8, 6\n",
    "   "
   ]
  },
  {
   "cell_type": "markdown",
   "metadata": {},
   "source": [
    "### 2. What is the difference between string and variable?"
   ]
  },
  {
   "cell_type": "markdown",
   "metadata": {},
   "source": [
    "#### Answer : \n",
    "    - Variables are symbols that you can use to store data in a program. You can think of them as an empty box that you fill with some data or value. Strings are data, so we can use them to fill up a variable.\n",
    "        Example a = 10 here a is the variabe that has the value of 10 which is integer data tyoe\n",
    "        \n",
    "    - String represents a text value enclosed with in two double quotes or two single quotes. \n",
    "        Example \"akash\", \"akash0101048\""
   ]
  },
  {
   "cell_type": "markdown",
   "metadata": {},
   "source": [
    "### 3. Describe three different data types."
   ]
  },
  {
   "cell_type": "markdown",
   "metadata": {},
   "source": [
    "#### Answer: Three data types in python \n",
    "    - int - A positive or negative whole number without a decimal point. example  a = 10\n",
    "    - floating point numbers - A positive or negative whole number with a decimal point. b = 10.01\n",
    "    - string - any text with in two single or double quotes. c = 'akashkalasagond'\n"
   ]
  },
  {
   "cell_type": "markdown",
   "metadata": {},
   "source": [
    "### 4. What is an expression made up of? What do all expressions do?"
   ]
  },
  {
   "cell_type": "markdown",
   "metadata": {},
   "source": [
    "#### Answer:\n",
    "    - An Expression is a combination of variables and operators. There expressions perform operation of variable based on \n",
    "    the operators and evaluates the values to a single variable.\n"
   ]
  },
  {
   "cell_type": "markdown",
   "metadata": {},
   "source": [
    "### 5. This assignment statements, like spam = 10. What is the difference between an expression and a statement?"
   ]
  },
  {
   "cell_type": "markdown",
   "metadata": {},
   "source": [
    "#### Answer:\n",
    "    - The assignemnt statemets assign a value to the variable.\n",
    "    - The expressions evalutaes the value to a variable.\n",
    "    - in spam = 10 , value 10 in assigned to spam, and now spam will have value 10.\n",
    "    - But in expression a = b+c, the value of a depends on the value of b and c."
   ]
  },
  {
   "cell_type": "markdown",
   "metadata": {},
   "source": [
    "### 6. After running the following code, what does the variable bacon contain?\n",
    " - bacon = 22\n",
    " - bacon + 1\n"
   ]
  },
  {
   "cell_type": "markdown",
   "metadata": {},
   "source": [
    "#### Answer:\n",
    "- bacon value will ne 22 itself.\n",
    "\n",
    "- The bacon is assinged with 22, but becon + 1 is not reassigned to bacon again like, bacon= bacon + 1. So the value of bacon is not changed"
   ]
  },
  {
   "cell_type": "markdown",
   "metadata": {},
   "source": [
    "### 7. What should the values of the following two terms be?\n",
    " - 'spam' + 'spamspam'\n",
    " - 'spam' * 3\n",
    "\n"
   ]
  },
  {
   "cell_type": "markdown",
   "metadata": {},
   "source": [
    "#### Answer: 1 output :  'spamspamspam' 2 output :  'spamspamspam'`"
   ]
  },
  {
   "cell_type": "markdown",
   "metadata": {},
   "source": [
    "### 8. Why is eggs a valid variable name while 100 is invalid?"
   ]
  },
  {
   "cell_type": "markdown",
   "metadata": {},
   "source": [
    "#### Answer:\n",
    "\n",
    "    - Variable name can not starts with numbers."
   ]
  },
  {
   "cell_type": "markdown",
   "metadata": {},
   "source": [
    "### 9. What three functions can be used to get the integer, floating-point number, or string version of a value?"
   ]
  },
  {
   "cell_type": "markdown",
   "metadata": {},
   "source": [
    "#### Answer: The functions are  \n",
    "    - int() : integer\n",
    "    - float(): float number \n",
    "    - str() : will convert the values to integer, float or string versions of the values passed to them"
   ]
  },
  {
   "cell_type": "markdown",
   "metadata": {},
   "source": [
    "### 10. Why does this expression cause an error? How can you fix it? 'I have eaten ' + 99 + ' burritos.'\n"
   ]
  },
  {
   "cell_type": "markdown",
   "metadata": {},
   "source": [
    "#### Answer:\n",
    "    - This error raised as since string concatination with interger values can not be performed.\n",
    "    This can be fixed by converting 99 into string by str(99)"
   ]
  }
 ],
 "metadata": {
  "language_info": {
   "name": "python"
  }
 },
 "nbformat": 4,
 "nbformat_minor": 2
}
