{
 "cells": [
  {
   "cell_type": "markdown",
   "metadata": {},
   "source": [
    "Assignment 6\n"
   ]
  },
  {
   "cell_type": "markdown",
   "metadata": {},
   "source": [
    "1. What is the primary goal of Object-Oriented Programming (OOP)?"
   ]
  },
  {
   "cell_type": "markdown",
   "metadata": {},
   "source": [
    "Answer : The primary goal of Object-Oriented Programming (OOP) is to model real-world entities and their interactions by organizing code into reusable, modular, and scalable components called objects. OOP focuses on principles like encapsulation, inheritance, polymorphism, and abstraction, which enhance code clarity, maintainability, and reusability.\n",
    "\n"
   ]
  },
  {
   "cell_type": "markdown",
   "metadata": {},
   "source": [
    "2. What is an object in Python?"
   ]
  },
  {
   "cell_type": "markdown",
   "metadata": {},
   "source": [
    "Answer : An object in Python is an instance of a class. It represents a specific implementation of the blueprint defined by the class, with its own data and behaviors. For example:"
   ]
  },
  {
   "cell_type": "code",
   "execution_count": 1,
   "metadata": {},
   "outputs": [],
   "source": [
    "class Dog:\n",
    "    pass\n",
    "\n",
    "my_dog = Dog()  # 'my_dog' is an object (instance of the 'Dog' class)\n"
   ]
  },
  {
   "cell_type": "markdown",
   "metadata": {},
   "source": [
    "3. What is a class in Python?"
   ]
  },
  {
   "cell_type": "markdown",
   "metadata": {},
   "source": [
    "Answer : A class in Python is a blueprint or template for creating objects. It defines the properties (attributes) and behaviors (methods) that its objects will have. For example:\n"
   ]
  },
  {
   "cell_type": "code",
   "execution_count": 2,
   "metadata": {},
   "outputs": [],
   "source": [
    "class Dog:\n",
    "    def __init__(self, name):\n",
    "        self.name = name  # Attribute\n",
    "    \n",
    "    def bark(self):\n",
    "        print(f\"{self.name} says Woof!\")  # Method\n"
   ]
  },
  {
   "cell_type": "markdown",
   "metadata": {},
   "source": [
    "4. What are attributes and methods in a class?"
   ]
  },
  {
   "cell_type": "markdown",
   "metadata": {},
   "source": [
    "Attributes: These are variables that store data related to an object. Attributes define the properties or characteristics of an object.\n",
    "Example: name, age in a Dog class.\n",
    "\n",
    "Methods: These are functions defined inside a class that operate on the attributes and provide the object’s behavior.\n",
    "Example: bark() or run() in a Dog class.\n",
    "\n"
   ]
  },
  {
   "cell_type": "code",
   "execution_count": 3,
   "metadata": {},
   "outputs": [],
   "source": [
    "class Dog:\n",
    "    def __init__(self, name, age):\n",
    "        self.name = name  # Attribute\n",
    "        self.age = age    # Attribute\n",
    "    \n",
    "    def bark(self):       # Method\n",
    "        print(f\"{self.name} is barking!\")\n"
   ]
  },
  {
   "cell_type": "markdown",
   "metadata": {},
   "source": [
    "5. What is the difference between class variables and instance variables in Python?"
   ]
  },
  {
   "cell_type": "markdown",
   "metadata": {},
   "source": [
    "Answer : Class Variables:\n",
    "\n",
    "Shared across all instances of a class.\n",
    "Defined directly within the class but outside any method.\n",
    "Example: species in a Dog class."
   ]
  },
  {
   "cell_type": "code",
   "execution_count": 4,
   "metadata": {},
   "outputs": [],
   "source": [
    "class Dog:\n",
    "    species = \"Canis lupus familiaris\"  # Class variable\n"
   ]
  },
  {
   "cell_type": "markdown",
   "metadata": {},
   "source": [
    "Instance Variables:\n",
    "\n",
    "Specific to each object (instance).\n",
    "Defined within methods, typically in the __init__ method, using self.\n",
    "Example: name and age in a Dog class."
   ]
  },
  {
   "cell_type": "code",
   "execution_count": 5,
   "metadata": {},
   "outputs": [],
   "source": [
    "class Dog:\n",
    "    def __init__(self, name, age):\n",
    "        self.name = name  # Instance variable\n",
    "        self.age = age    # Instance variable\n"
   ]
  },
  {
   "cell_type": "markdown",
   "metadata": {},
   "source": [
    "6. What is the purpose of the self parameter in Python class methods?"
   ]
  },
  {
   "cell_type": "markdown",
   "metadata": {},
   "source": [
    "The self parameter represents the instance of the class and is used to access the instance’s attributes and methods. It allows methods to modify the object’s state and call other instance methods.\n",
    "\n",
    "self must be explicitly declared in the method definition, but it is automatically passed when calling the method.\n",
    "Example:"
   ]
  },
  {
   "cell_type": "code",
   "execution_count": 6,
   "metadata": {},
   "outputs": [],
   "source": [
    "class Dog:\n",
    "    def __init__(self, name):\n",
    "        self.name = name  # 'self.name' refers to the instance's 'name' attribute\n",
    "    \n",
    "    def bark(self):\n",
    "        print(f\"{self.name} says Woof!\")  # Accessing 'name' using 'self'\n"
   ]
  },
  {
   "cell_type": "code",
   "execution_count": 7,
   "metadata": {},
   "outputs": [
    {
     "name": "stdout",
     "output_type": "stream",
     "text": [
      "Buddy says Woof!\n"
     ]
    }
   ],
   "source": [
    "my_dog = Dog(\"Buddy\")\n",
    "my_dog.bark()  # Output: Buddy says Woof!\n"
   ]
  }
 ],
 "metadata": {
  "kernelspec": {
   "display_name": "base",
   "language": "python",
   "name": "python3"
  },
  "language_info": {
   "codemirror_mode": {
    "name": "ipython",
    "version": 3
   },
   "file_extension": ".py",
   "mimetype": "text/x-python",
   "name": "python",
   "nbconvert_exporter": "python",
   "pygments_lexer": "ipython3",
   "version": "3.11.7"
  }
 },
 "nbformat": 4,
 "nbformat_minor": 2
}
